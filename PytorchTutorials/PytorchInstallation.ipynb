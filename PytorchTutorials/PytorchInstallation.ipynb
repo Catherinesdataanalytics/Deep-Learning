{
 "cells": [
  {
   "cell_type": "code",
   "execution_count": 3,
   "metadata": {},
   "outputs": [],
   "source": [
    "#Pytorch installation"
   ]
  },
  {
   "cell_type": "code",
   "execution_count": 2,
   "metadata": {},
   "outputs": [
    {
     "name": "stdout",
     "output_type": "stream",
     "text": [
      "Solving environment: - \b\b\\ \b\b| \b\b/ \b\b- \b\b\\ \b\b| \b\b/ \b\b- \b\b\\ \b\b| \b\b/ \b\b- \b\b\\ \b\b| \b\b/ \b\b- \b\b\\ \b\b| \b\b/ \b\b- \b\b\\ \b\b| \b\b/ \b\b- \b\b\\ \b\b| \b\b/ \b\b- \b\b\\ \b\b| \b\b/ \b\b- \b\b\\ \b\b| \b\b/ \b\b- \b\b\\ \b\b| \b\b/ \b\b- \b\b\\ \b\b| \b\b/ \b\b- \b\b\\ \b\b| \b\b/ \b\b- \b\b\\ \b\b| \b\b/ \b\b- \b\b\\ \b\b| \b\b/ \b\b- \b\b\\ \b\b| \b\b/ \b\b- \b\b\\ \b\b| \b\b/ \b\b- \b\b\\ \b\b| \b\b/ \b\b- \b\b\\ \b\b| \b\b/ \b\b- \b\b\\ \b\b| \b\b/ \b\b- \b\b\\ \b\b| \b\b/ \b\b- \b\b\\ \b\b| \b\b/ \b\b- \b\b\\ \b\b| \b\b/ \b\b- \b\b\\ \b\b| \b\b/ \b\b- \b\b\\ \b\b| \b\b/ \b\b- \b\b\\ \b\b| \b\b/ \b\b- \b\b\\ \b\b| \b\b/ \b\b- \b\b\\ \b\b| \b\b/ \b\b- \b\b\\ \b\b| \b\b/ \b\b- \b\b\\ \b\b| \b\b/ \b\b- \b\b\\ \b\b| \b\b/ \b\b- \b\b\\ \b\b| \b\b/ \b\b- \b\b\\ \b\b| \b\b/ \b\b- \b\b\\ \b\b| \b\b/ \b\b- \b\b\\ \b\b| \b\b/ \b\b- \b\b\\ \b\b| \b\b/ \b\b- \b\b\\ \b\b| \b\b/ \b\b- \b\b\\ \b\b| \b\b/ \b\b- \b\b\\ \b\b| \b\b/ \b\b- \b\b\\ \b\b| \b\b/ \b\b- \b\b\\ \b\b| \b\b/ \b\b- \b\b\\ \b\b| \b\b/ \b\b- \b\b\\ \b\b| \b\b/ \b\b- \b\b\\ \b\b| \b\b/ \b\b- \b\b\\ \b\b| \b\b/ \b\b- \b\b\\ \b\b| \b\b/ \b\b- \b\b\\ \b\b| \b\b/ \b\b- \b\b\\ \b\b| \b\b/ \b\b- \b\b\\ \b\b| \b\b/ \b\b- \b\b\\ \b\b| \b\b/ \b\b- \b\b\\ \b\b| \b\b/ \b\b- \b\b\\ \b\b| \b\b/ \b\b- \b\b\\ \b\b| \b\b/ \b\b- \b\b\\ \b\b| \b\b/ \b\b- \b\b\\ \b\b| \b\b/ \b\b- \b\b\\ \b\b| \b\b/ \b\b- \b\b\\ \b\b| \b\b/ \b\b- \b\b\\ \b\b| \b\b/ \b\b- \b\b\\ \b\b| \b\b/ \b\b- \b\b\\ \b\b| \b\b/ \b\b- \b\b\\ \b\b| \b\b/ \b\b- \b\b\\ \b\b| \b\b/ \b\b- \b\b\\ \b\b| \b\b/ \b\b- \b\b\\ \b\b| \b\b/ \b\b- \b\b\\ \b\b| \b\b/ \b\b- \b\b\\ \b\b| \b\b/ \b\b- \b\b\\ \b\b| \b\b/ \b\b- \b\b\\ \b\b| \b\b/ \b\b- \b\b\\ \b\b| \b\b/ \b\b- \b\b\\ \b\b| \b\b/ \b\b- \b\b\\ \b\b| \b\b/ \b\b- \b\b\\ \b\b| \b\b/ \b\b- \b\b\\ \b\bdone\r\n",
      "\r\n",
      "\r\n",
      "==> WARNING: A newer version of conda exists. <==\r\n",
      "  current version: 4.4.7\r\n",
      "  latest version: 4.5.4\r\n",
      "\r\n",
      "Please update conda by running\r\n",
      "\r\n",
      "    $ conda update -n base conda\r\n",
      "\r\n",
      "\r\n",
      "\r\n",
      "## Package Plan ##\r\n",
      "\r\n",
      "  environment location: /Applications/anaconda2/envs/py36\r\n",
      "\r\n",
      "  added / updated specs: \r\n",
      "    - pytorch\r\n",
      "    - torchvision\r\n",
      "\r\n",
      "\r\n",
      "The following packages will be downloaded:\r\n",
      "\r\n",
      "    package                    |            build\r\n",
      "    ---------------------------|-----------------\r\n",
      "    torchvision-0.2.1          |           py36_1         123 KB  pytorch\r\n",
      "    pytorch-0.4.0              |py36_cuda0.0_cudnn0.0_1         7.3 MB  pytorch\r\n",
      "    ninja-1.8.2                |       h2d50403_1          88 KB  conda-forge\r\n",
      "    ------------------------------------------------------------\r\n",
      "                                           Total:         7.5 MB\r\n",
      "\r\n",
      "The following NEW packages will be INSTALLED:\r\n",
      "\r\n",
      "    ninja:       1.8.2-h2d50403_1              conda-forge\r\n",
      "    pytorch:     0.4.0-py36_cuda0.0_cudnn0.0_1 pytorch    \r\n",
      "    torchvision: 0.2.1-py36_1                  pytorch    \r\n",
      "\r\n",
      "\r\n",
      "Downloading and Extracting Packages\r\n",
      "\r",
      "torchvision 0.2.1:                                                       |   0% \r",
      "torchvision 0.2.1: #####1                                                |  10% \r",
      "torchvision 0.2.1: ##################################################### | 100% \r\n",
      "\r",
      "pytorch 0.4.0:                                                           |   0% \r",
      "pytorch 0.4.0:                                                           |   0% \r",
      "pytorch 0.4.0: #9                                                        |   3% \r",
      "pytorch 0.4.0: ####2                                                     |   7% \r",
      "pytorch 0.4.0: #######1                                                  |  12% \r",
      "pytorch 0.4.0: ##########5                                               |  18% \r",
      "pytorch 0.4.0: #############2                                            |  23% \r",
      "pytorch 0.4.0: ###############7                                          |  28% \r",
      "pytorch 0.4.0: ##################4                                       |  32% \r",
      "pytorch 0.4.0: #####################3                                    |  37% \r",
      "pytorch 0.4.0: #######################9                                  |  42% \r",
      "pytorch 0.4.0: ##########################3                               |  46% \r",
      "pytorch 0.4.0: ############################7                             |  50% \r",
      "pytorch 0.4.0: ###############################1                          |  55% \r",
      "pytorch 0.4.0: ##################################                        |  60% \r",
      "pytorch 0.4.0: #####################################1                    |  65% \r",
      "pytorch 0.4.0: #######################################8                  |  70% \r",
      "pytorch 0.4.0: ##########################################4               |  75% \r",
      "pytorch 0.4.0: #############################################             |  79% \r",
      "pytorch 0.4.0: #################################################5        |  87% \r",
      "pytorch 0.4.0: ####################################################4     |  92% \r",
      "pytorch 0.4.0: #######################################################1  |  97% \r",
      "pytorch 0.4.0: ######################################################### | 100% \r\n",
      "\r",
      "ninja 1.8.2:                                                             |   0% \r",
      "ninja 1.8.2: ########                                                    |  14% \r",
      "ninja 1.8.2: ########################################################### | 100% \r\n",
      "Preparing transaction: / \b\b- \b\bdone\r\n",
      "Verifying transaction: | \b\b/ \b\b- \b\b\\ \b\b| \b\b/ \b\b- \b\b\\ \b\b| \b\b/ \b\b- \b\b\\ \b\b| \b\b/ \b\bdone\r\n",
      "Executing transaction: \\ \b\b| \b\b/ \b\b- \b\b\\ \b\bdone\r\n"
     ]
    }
   ],
   "source": [
    "import sys\n",
    "!conda install --yes --prefix {sys.prefix} pytorch torchvision -c pytorch"
   ]
  },
  {
   "cell_type": "code",
   "execution_count": null,
   "metadata": {},
   "outputs": [],
   "source": []
  }
 ],
 "metadata": {
  "kernelspec": {
   "display_name": "Python [conda env:py36]",
   "language": "python",
   "name": "conda-env-py36-py"
  },
  "language_info": {
   "codemirror_mode": {
    "name": "ipython",
    "version": 3
   },
   "file_extension": ".py",
   "mimetype": "text/x-python",
   "name": "python",
   "nbconvert_exporter": "python",
   "pygments_lexer": "ipython3",
   "version": "3.6.3"
  }
 },
 "nbformat": 4,
 "nbformat_minor": 2
}
